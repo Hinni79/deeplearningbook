{
  "nbformat": 4,
  "nbformat_minor": 0,
  "metadata": {
    "colab": {
      "name": "DLBook_Project1.ipynb",
      "provenance": [],
      "collapsed_sections": [],
      "mount_file_id": "1RPeFsXde9EqGaeYoU1X-6O9bt7T5szXF",
      "authorship_tag": "ABX9TyNvQh50TeDjYOpmSL0efqj3",
      "include_colab_link": true
    },
    "kernelspec": {
      "name": "python3",
      "display_name": "Python 3"
    }
  },
  "cells": [
    {
      "cell_type": "markdown",
      "metadata": {
        "id": "view-in-github",
        "colab_type": "text"
      },
      "source": [
        "<a href=\"https://colab.research.google.com/github/Hinni79/deeplearningbook/blob/master/DLBook_Project1.ipynb\" target=\"_parent\"><img src=\"https://colab.research.google.com/assets/colab-badge.svg\" alt=\"Open In Colab\"/></a>"
      ]
    },
    {
      "cell_type": "markdown",
      "metadata": {
        "id": "M9O0WKJLtHaq",
        "colab_type": "text"
      },
      "source": [
        "# Projekt 1: Lineare Regression\n",
        "## Schritt 1: Datengenerierung und Visualisierung"
      ]
    },
    {
      "cell_type": "code",
      "metadata": {
        "id": "WrlP2RnVtaGz",
        "colab_type": "code",
        "colab": {
          "base_uri": "https://localhost:8080/",
          "height": 35
        },
        "outputId": "bbec61e5-6b71-45d1-bdc9-d1de0b25b791"
      },
      "source": [
        "%tensorflow_version 1.x\n",
        "import tensorflow as tf\n",
        "import numpy as np\n",
        "import matplotlib\n",
        "%matplotlib inline\n",
        "import matplotlib.pyplot as plt\n",
        "np.random.seed(42)\n",
        "my_weight = 4"
      ],
      "execution_count": 1,
      "outputs": [
        {
          "output_type": "stream",
          "text": [
            "TensorFlow 1.x selected.\n"
          ],
          "name": "stdout"
        }
      ]
    },
    {
      "cell_type": "code",
      "metadata": {
        "id": "MKmRL_U3t8gT",
        "colab_type": "code",
        "colab": {}
      },
      "source": [
        "# Array mit 100 Werten generieren\n",
        "input = np.arange(0,10,0.1)\n",
        "noise = np.random.randint(low=1, high=10, size=input.shape)\n",
        "output = my_weight * input + noise"
      ],
      "execution_count": 0,
      "outputs": []
    },
    {
      "cell_type": "code",
      "metadata": {
        "id": "cOVp1J0kutHW",
        "colab_type": "code",
        "colab": {
          "base_uri": "https://localhost:8080/",
          "height": 265
        },
        "outputId": "e9059c69-d954-4e38-c2f6-ce4d3dc9293f"
      },
      "source": [
        "plt.scatter(input, output, c=\"red\")\n",
        "plt.show()"
      ],
      "execution_count": 3,
      "outputs": [
        {
          "output_type": "display_data",
          "data": {
            "image/png": "[encoded data removed]",
            "text/plain": [
              "<Figure size 432x288 with 1 Axes>"
            ]
          },
          "metadata": {
            "tags": []
          }
        }
      ]
    },
    {
      "cell_type": "markdown",
      "metadata": {
        "id": "oIk8QFBPvJEb",
        "colab_type": "text"
      },
      "source": [
        "## Schritt 2: Modell erstellen\n",
        "X wird mit w multipliziert und b addiert"
      ]
    },
    {
      "cell_type": "code",
      "metadata": {
        "id": "V0qRKQbfvUqV",
        "colab_type": "code",
        "colab": {}
      },
      "source": [
        "def linear_regression_model(X, w, b):\n",
        "    return tf.add(tf.multiply(X, w), b)\n",
        "\n",
        "# Platzhalter für X und Y erstellen\n",
        "X = tf.placeholder(tf.float32, name=\"X\")\n",
        "Y = tf.placeholder(tf.float32, name=\"Y\")\n",
        "# Variablen für w und b erstellen\n",
        "w = tf.Variable(0.0, name=\"weights\")\n",
        "b = tf.Variable(0.0, name=\"bias\")"
      ],
      "execution_count": 0,
      "outputs": []
    },
    {
      "cell_type": "code",
      "metadata": {
        "id": "XaoVdRk2wjxB",
        "colab_type": "code",
        "colab": {}
      },
      "source": [
        "# Cost function\n",
        "cost = tf.square(Y - linear_regression_model(X, w, b))\n",
        "train_op = tf.train.GradientDescentOptimizer(0.01).minimize(cost)"
      ],
      "execution_count": 0,
      "outputs": []
    },
    {
      "cell_type": "markdown",
      "metadata": {
        "id": "zrZg2puExtd4",
        "colab_type": "text"
      },
      "source": [
        "## Schritt 3: Modell trainieren\n",
        "For-Schleife über die Anzahl der Epochen, die Trainingsoperation ausführen mit den Trainingswerten. Anschliessend Gewichte und Bias auswerten."
      ]
    },
    {
      "cell_type": "code",
      "metadata": {
        "id": "gCzDM2ri0Zr5",
        "colab_type": "code",
        "colab": {}
      },
      "source": [
        "epochs = range(0,100)\n",
        "with tf.Session() as sess:\n",
        "    sess.run(tf.global_variables_initializer())\n",
        "    for i in epochs:\n",
        "        print(\"--- Epoch {} ---\".format(i))\n",
        "        for (x,y) in zip(input,output):\n",
        "            sess.run(train_op, feed_dict={X:x, Y:y})\n",
        "        \n",
        "        weight_value = sess.run(w)\n",
        "        bias_value = sess.run(b)\n",
        "\n",
        "        print(\"bias_value: {}\".format(bias_value))\n",
        "        print(\"weight_value: {}\".format(weight_value))"
      ],
      "execution_count": 0,
      "outputs": []
    }
  ]
}